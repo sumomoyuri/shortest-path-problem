{
 "cells": [
  {
   "cell_type": "code",
   "execution_count": 1,
   "metadata": {
    "scrolled": false
   },
   "outputs": [
    {
     "data": {
      "text/html": [
       "<div>\n",
       "<style scoped>\n",
       "    .dataframe tbody tr th:only-of-type {\n",
       "        vertical-align: middle;\n",
       "    }\n",
       "\n",
       "    .dataframe tbody tr th {\n",
       "        vertical-align: top;\n",
       "    }\n",
       "\n",
       "    .dataframe thead th {\n",
       "        text-align: right;\n",
       "    }\n",
       "</style>\n",
       "<table border=\"1\" class=\"dataframe\">\n",
       "  <thead>\n",
       "    <tr style=\"text-align: right;\">\n",
       "      <th></th>\n",
       "      <th>newID</th>\n",
       "      <th>X</th>\n",
       "      <th>Y</th>\n",
       "      <th>lid1</th>\n",
       "      <th>lid2</th>\n",
       "      <th>lid3</th>\n",
       "      <th>lid4</th>\n",
       "    </tr>\n",
       "  </thead>\n",
       "  <tbody>\n",
       "    <tr>\n",
       "      <th>0</th>\n",
       "      <td>12313</td>\n",
       "      <td>-2612.594129</td>\n",
       "      <td>28079.50645</td>\n",
       "      <td>12315</td>\n",
       "      <td>35863.0</td>\n",
       "      <td>35864.0</td>\n",
       "      <td>NaN</td>\n",
       "    </tr>\n",
       "    <tr>\n",
       "      <th>1</th>\n",
       "      <td>12314</td>\n",
       "      <td>-2681.217892</td>\n",
       "      <td>28087.80304</td>\n",
       "      <td>12315</td>\n",
       "      <td>20968.0</td>\n",
       "      <td>20969.0</td>\n",
       "      <td>20973.0</td>\n",
       "    </tr>\n",
       "    <tr>\n",
       "      <th>2</th>\n",
       "      <td>12316</td>\n",
       "      <td>-3068.052715</td>\n",
       "      <td>28191.00739</td>\n",
       "      <td>12318</td>\n",
       "      <td>NaN</td>\n",
       "      <td>NaN</td>\n",
       "      <td>NaN</td>\n",
       "    </tr>\n",
       "    <tr>\n",
       "      <th>3</th>\n",
       "      <td>12317</td>\n",
       "      <td>-3080.211688</td>\n",
       "      <td>28210.98731</td>\n",
       "      <td>12318</td>\n",
       "      <td>35865.0</td>\n",
       "      <td>NaN</td>\n",
       "      <td>NaN</td>\n",
       "    </tr>\n",
       "    <tr>\n",
       "      <th>4</th>\n",
       "      <td>12319</td>\n",
       "      <td>-1905.075055</td>\n",
       "      <td>28211.22341</td>\n",
       "      <td>12321</td>\n",
       "      <td>19667.0</td>\n",
       "      <td>19669.0</td>\n",
       "      <td>19670.0</td>\n",
       "    </tr>\n",
       "    <tr>\n",
       "      <th>5</th>\n",
       "      <td>12320</td>\n",
       "      <td>-1898.516124</td>\n",
       "      <td>28218.26215</td>\n",
       "      <td>12321</td>\n",
       "      <td>NaN</td>\n",
       "      <td>NaN</td>\n",
       "      <td>NaN</td>\n",
       "    </tr>\n",
       "    <tr>\n",
       "      <th>6</th>\n",
       "      <td>12322</td>\n",
       "      <td>-1894.145386</td>\n",
       "      <td>28214.86914</td>\n",
       "      <td>12324</td>\n",
       "      <td>NaN</td>\n",
       "      <td>NaN</td>\n",
       "      <td>NaN</td>\n",
       "    </tr>\n",
       "    <tr>\n",
       "      <th>7</th>\n",
       "      <td>12323</td>\n",
       "      <td>-1901.572848</td>\n",
       "      <td>28207.72559</td>\n",
       "      <td>12324</td>\n",
       "      <td>19666.0</td>\n",
       "      <td>19667.0</td>\n",
       "      <td>NaN</td>\n",
       "    </tr>\n",
       "    <tr>\n",
       "      <th>8</th>\n",
       "      <td>12325</td>\n",
       "      <td>-3591.288732</td>\n",
       "      <td>28242.81457</td>\n",
       "      <td>12327</td>\n",
       "      <td>12329.0</td>\n",
       "      <td>12769.0</td>\n",
       "      <td>NaN</td>\n",
       "    </tr>\n",
       "    <tr>\n",
       "      <th>9</th>\n",
       "      <td>12326</td>\n",
       "      <td>-3598.763485</td>\n",
       "      <td>28250.45191</td>\n",
       "      <td>12327</td>\n",
       "      <td>12713.0</td>\n",
       "      <td>12746.0</td>\n",
       "      <td>NaN</td>\n",
       "    </tr>\n",
       "  </tbody>\n",
       "</table>\n",
       "</div>"
      ],
      "text/plain": [
       "   newID            X            Y   lid1     lid2     lid3     lid4\n",
       "0  12313 -2612.594129  28079.50645  12315  35863.0  35864.0      NaN\n",
       "1  12314 -2681.217892  28087.80304  12315  20968.0  20969.0  20973.0\n",
       "2  12316 -3068.052715  28191.00739  12318      NaN      NaN      NaN\n",
       "3  12317 -3080.211688  28210.98731  12318  35865.0      NaN      NaN\n",
       "4  12319 -1905.075055  28211.22341  12321  19667.0  19669.0  19670.0\n",
       "5  12320 -1898.516124  28218.26215  12321      NaN      NaN      NaN\n",
       "6  12322 -1894.145386  28214.86914  12324      NaN      NaN      NaN\n",
       "7  12323 -1901.572848  28207.72559  12324  19666.0  19667.0      NaN\n",
       "8  12325 -3591.288732  28242.81457  12327  12329.0  12769.0      NaN\n",
       "9  12326 -3598.763485  28250.45191  12327  12713.0  12746.0      NaN"
      ]
     },
     "execution_count": 1,
     "metadata": {},
     "output_type": "execute_result"
    }
   ],
   "source": [
    "import pandas as pd\n",
    "import math\n",
    "import heapq\n",
    "import copy\n",
    "import time\n",
    "import random\n",
    "import numpy as np\n",
    "from tqdm.notebook import tqdm # notebook用\n",
    "\n",
    "#link[newID, node1, node2, 長さ, width]\n",
    "df_link = pd.read_csv('node_and_link/link.csv', encoding = 'shift-jis')\n",
    "#node[newID, X, Y, lid1, lid2, lid3, lid4]\n",
    "df_node = pd.read_csv('node_and_link/node_.csv', encoding = 'shift-jis')\n",
    "\n",
    "min_x, min_y = df_node['X'].min(), df_node['Y'].min() #図面左上X,Y\n",
    "max_x, max_y = df_node['X'].max(), df_node['Y'].max() #図面右下X,Y\n",
    "vertex = (min_x, min_y) #左上の頂点\n",
    "original_size = (math.fabs(max_x  - min_x), math.fabs(max_y  - min_y)) #元の図のサイズ\n",
    "canvas_size = [1000, 500] #canvasサイズ(仮)\n",
    "ratio = canvas_size[0] / original_size[0] #canvasサイズの横幅に合わせて図面の拡大倍率を変更\n",
    "canvas_size[1] = original_size[1] * ratio #図面と同じ縦横比になるようにcanvasサイズの縦を変更\n",
    "\n",
    "df_node.head(10)"
   ]
  },
  {
   "cell_type": "code",
   "execution_count": 2,
   "metadata": {},
   "outputs": [
    {
     "name": "stdout",
     "output_type": "stream",
     "text": [
      "finish\n"
     ]
    }
   ],
   "source": [
    "#ノードとリンクのクラスの作成\n",
    "\n",
    "class Node:\n",
    "    def __init__(self, nid, x, y, link_ids):\n",
    "        self.id = nid #ノードのID\n",
    "        self.x, self.y = x, y #座標\n",
    "        self.link_ids = link_ids #接するリンクIDのリスト\n",
    "        self.passed_links = [] #経由したリンクIDのリスト\n",
    "        self.total_d, self.total_d2 =  float('inf'), float('inf') #スタート地点からの距離(+ゴールまでの直線距離)\n",
    "        \n",
    "class Link:\n",
    "    def __init__(self, lid, nid1, nid2, d, w):\n",
    "        self.id = lid #リンクのID\n",
    "        self.nid1, self.nid2 = nid1, nid2 #両端ノードのID\n",
    "        self.d = d #距離\n",
    "        self.w = w #道幅\n",
    "        \n",
    "#ノードとリンクをインスタンス化してdictに追加\n",
    "\n",
    "dict_link = {} #ノードのdict\n",
    "dict_node = {} #リンクのdict\n",
    "for link in df_link.values: #全リンクのインスタンス化\n",
    "    dict_link[int(link[0])] = Link(int(link[0]), int(link[1]), int(link[2]), link[3], link[4]) #インスタンス化\n",
    "for node in df_node.values: #全ノードのインスタンス化\n",
    "    link_ids = [int(node[i + 3]) for i in range(4) if pd.isnull(node[i + 3]) is False] #隣接するリンクのリスト\n",
    "    dict_node[int(node[0])] = Node(int(node[0]), node[1], node[2], link_ids) #インスタンス化\n",
    "\n",
    "print('finish')"
   ]
  },
  {
   "cell_type": "code",
   "execution_count": 3,
   "metadata": {},
   "outputs": [],
   "source": [
    "#ダイクストラ法(+A*)\n",
    "\n",
    "def Dijkstra(start_node, goal_node):\n",
    "    \n",
    "    #隣接ノードの最短距離を計算して情報（最短距離, 経由リンク）を更新--◆--◆--◆--◆--◆--◆--◆ #・・・①\n",
    "    def UpdateNodeProp(scan_node):\n",
    "        for lid in scan_node.link_ids: #ノードの各隣接リンクIDについて\n",
    "            link = dict_link[lid] #隣接リンク\n",
    "            near_node = dict_node[link.nid2] if link.nid1== scan_node.id else dict_node[link.nid1] #隣接ノード\n",
    "            #隣接ノードまでの合計距離が元の最短距離より短い場合は最短距離、経由リンクIDのリストを更新\n",
    "            if scan_node.total_d + link.d  < near_node.total_d:\n",
    "                near_node.total_d = scan_node.total_d + link.d \n",
    "                if app.bln.get(): #A*の時は最短距離+ゴールまでの直線距離を計算してtotal_d2を更新\n",
    "                    l = math.sqrt((goal_node.x - near_node.x)**2 + (goal_node.y - near_node.y)**2)\n",
    "                    near_node.total_d2 = near_node.total_d + l\n",
    "                    heapq.heappush(list_node_temp,(near_node.total_d2,near_node.id)) #仮確定ノードのリストに追加\n",
    "                else: heapq.heappush(list_node_temp,(near_node.total_d,near_node.id)) #仮確定ノードのリストに追加\n",
    "                near_node.passed_links = (copy.copy(scan_node.passed_links))\n",
    "                near_node.passed_links.append(link.id) #経由リンクのリストを更新\n",
    "            #探索済みリンクを描画する場合は今回のリンクを探索済みリンクのリストに追加\n",
    "            global dict_link_comp\n",
    "            if app.bln2.get(): dict_link_comp.append(lid)\n",
    "        \n",
    "    #仮確定ノードの中で最短経路をもつノードを確定させて次のscan_nodeとする--◆--◆--◆--◆--◆ #・・・②\n",
    "    def FindMinNode():\n",
    "        distance, nid = heapq.heappop(list_node_temp)\n",
    "        next_node = dict_node[nid]\n",
    "        return next_node\n",
    "    \n",
    "    #実行部分--◆--◆--◆--◆--◆-◆--◆--◆--◆--◆-◆--◆--◆--◆--◆-◆--◆--◆--◆--◆-◆--◆--◆\n",
    "    global count, dict_link_comp\n",
    "    count = 1 #確定ノード数\n",
    "    dict_link_comp = [] #探索済みリンクのリスト\n",
    "    list_node_temp = [] #仮確定ノードのリスト\n",
    "    #ノードの状態の初期化（全ノードで距離=無限大,経由リンクは空にする）\n",
    "    for node in dict_node.values():\n",
    "        node.total_d, node.total_d2 = float('inf'), float('inf')\n",
    "        node.passed_links = []\n",
    "    #始点ノードを距離=0として,最初のscan_nodeに設定\n",
    "    start_node.total_d = 0\n",
    "    scan_node = start_node\n",
    "    #goal_nodeが確定するまで探索を実行\n",
    "    while goal_node != scan_node:\n",
    "        UpdateNodeProp(scan_node) #・・・①\n",
    "        scan_node = FindMinNode() #・・・②\n",
    "        count += 1"
   ]
  },
  {
   "cell_type": "code",
   "execution_count": 4,
   "metadata": {},
   "outputs": [],
   "source": [
    "#距離行列と経由リンクlistの行列の算出\n",
    "\n",
    "def CalculatDistanceMatrix():\n",
    "    \n",
    "    #ダイクストラ法で1行分の距離行列と経由リンクlistの行列を算出\n",
    "    def ApplyToDijkstra(i): #・・・●\n",
    "        d_mat_i, l_mat_i = [], []\n",
    "        for j, key in enumerate(origin_nodes_2):\n",
    "            if j < i: \n",
    "                Dijkstra(dict_node[origin_nodes_2[i]], dict_node[key]) #ダイクストラ法の実行\n",
    "                d_mat_i.append(dict_node[key].total_d) #計算した距離をリストに追加\n",
    "                l_mat_i.append(dict_node[key].passed_links) #経由したリンクのリストををリストに追加\n",
    "            else: d_mat_i.append(0), l_mat_i.append(0)\n",
    "        return d_mat_i, l_mat_i\n",
    "    \n",
    "    distance_matrix = np.zeros((n_num+2, n_num+2), dtype=np.float32) #空の距離行列\n",
    "    passed_links_matrix = np.empty((n_num+2, n_num+2), dtype=np.object) #空の経由リンクlistの行列\n",
    "    for i in tqdm(range(n_num+2)): #まずは下三角行列を算出\n",
    "        app.var_start(n_num+2) #プログレスバー\n",
    "        d_mat_i, l_mat_i  = ApplyToDijkstra(i) #・・・●\n",
    "        distance_matrix[i,], passed_links_matrix[i,] = np.array(d_mat_i), np.array(l_mat_i)\n",
    "    i_toper = np.triu_indices(n_num+2, 1) #(n_num+2)×(n_num+2)の上三角行列のインデックス\n",
    "    distance_matrix[i_toper] = distance_matrix.T[i_toper] #下三角行列を上三角行列にコピー\n",
    "    passed_links_matrix[i_toper] = passed_links_matrix.T[i_toper] #下三角行列を上三角行列にコピー\n",
    "    \n",
    "    return distance_matrix, passed_links_matrix"
   ]
  },
  {
   "cell_type": "code",
   "execution_count": 5,
   "metadata": {},
   "outputs": [],
   "source": [
    "#遺伝的アルゴリズムの実行\n",
    "\n",
    "def GeneticAlgorithm():\n",
    "    #ノード数×個体数のランダムな行列=第一世代を生成--◆--◆--◆--◆--◆--◆--◆ #・・・①\n",
    "    def generate_init_genes():\n",
    "        genes = np.zeros((i_num, n_num), dtype=np.int64) #ノード数×個体数の空行列\n",
    "        for i in range(i_num): genes[i,] = random.sample(range(n_num), k=n_num) #ランダムな個体を個体数生成\n",
    "        return genes #地点の数×個体数の行列を出力\n",
    "\n",
    "    #各個体の経路の長さを求めて、適応度(距離の逆数)を出力する関数--◆--◆--◆--◆--◆--◆--◆ #・・・②\n",
    "    #距離行列を参照して個体ごとに距離を算出する関数\n",
    "    def sum_path(gene): #・・・■\n",
    "        d = 0\n",
    "        for j in range(n_num-1): d += distance_matrix[int(gene[j])][int(gene[j + 1])]\n",
    "        d += distance_matrix[-2][int(gene[0])] #スタートから最初のノードまでの距離\n",
    "        if app.bln3.get():  d += distance_matrix[int(gene[-1])][-2] #最後のノードからスタートまでの距離\n",
    "        else: d += distance_matrix[int(gene[-1])][-1] #最後のノードからゴールまでの距離\n",
    "        return d\n",
    "\n",
    "    def genes_path(genes):\n",
    "        path_length = np.zeros(len(genes), dtype=np.float64)  #各個体の経路長を格納するリスト(空)\n",
    "        for i in range(len(genes)): path_length[i] = sum_path(genes[i]) #・・・■\n",
    "        return path_length\n",
    "\n",
    "    #確率のテーブルを元に交叉を行う個体を2つルーレット選択する関数--◆--◆--◆--◆--◆--◆--◆ #・・・③\n",
    "    def roulette_choice(fitness):\n",
    "        total = np.sum(fitness) #全個体の距離の合計\n",
    "        roulette = np.zeros(len(fitness)) #個体ごとの確率の空テーブル\n",
    "        for i in range(len(fitness)): roulette[i] = fitness[i]/total  #各個体の確率をテーブルに追加\n",
    "        choiced = np.random.choice(len(roulette), 2, replace=False, p=roulette)\n",
    "        #(個体数, 選ぶ数字の数, replace=重複を許すか否か, p=各々が選ばれる確率)\n",
    "        return choiced\n",
    "\n",
    "    #部分交叉--◆--◆--◆--◆--◆--◆--◆ #・・・④\n",
    "    def partial_crossover(parent1, parent2):\n",
    "        cross_point = random.randrange(1, n_num-1) #ランダムでtargetの初期位置を決める\n",
    "        child1, child2 = parent1, parent2\n",
    "        for i in range(n_num - cross_point): #初期位置から右端まで繰り返し\n",
    "            target_idx = cross_point + i #１つ右にずらす\n",
    "            #target_idxの値と同じ値の対配列のidxを取得\n",
    "            target_1, target_2 = parent1[target_idx], parent2[target_idx]\n",
    "            change_idx1,change_idx2 = np.where(parent1 == target_2), np.where(parent2 == target_1)\n",
    "            #対応する値を入れ替える\n",
    "            child1[target_idx], child2[target_idx] = target_2, target_1\n",
    "            child1[change_idx1], child2[change_idx2] = target_1, target_2\n",
    "        return child1, child2\n",
    "\n",
    "    #突然変異（転座…ランダムで選んだ2つの要素を交換)--◆--◆--◆--◆--◆--◆--◆ #・・・⑤\n",
    "    def translocation_mutation(genes, m_num, p_value):\n",
    "        m_genes = genes\n",
    "        for i in range(m_num):\n",
    "            if np.random.choice(2, 1, p = [1-p_value, p_value]) == 1:  #一定確率で発動\n",
    "                m_value = np.random.choice(genes[i], 2, replace = False) #要素をランダムで2つ選択\n",
    "                m_idx1, m_idx2 = np.where(genes[i] == m_value[0]), np.where(genes[i] == m_value[1]) #選択要素のidxを取得\n",
    "                m_genes[i][m_idx1], m_genes[i][m_idx2] = m_value[1], m_value[0] #２つの要素を入れ替え\n",
    "        return m_genes\n",
    "\n",
    "    #実行部分--◆--◆--◆--◆--◆--◆--◆\n",
    "    t1 = time.time()\n",
    "    genes = generate_init_genes() #ノード数×個体数のランダムな行列=第0世代を生成 #・・・①\n",
    "    global min_path_length\n",
    "    min_path_length = float('inf') #最短の経路長を初期化\n",
    "    text1 = \"\"\n",
    "    \n",
    "    #設定した世代数までループを実行\n",
    "    for i in tqdm(range(generation)):\n",
    "        if i%100 == 0: app.var_start(generation/100) #プログレスバー\n",
    "        #次世代の空行列の作成\n",
    "        child = np.zeros(np.shape(genes),  dtype=np.int8)\n",
    "        #個体ごとの適合度(距離の逆数)を算出して行列に\n",
    "        path_length = genes_path(genes) #各個体の経路長の行列　#・・・②\n",
    "        fitness = np.reciprocal(path_length) #各個体の適合度の行列\n",
    "        #まずはエリート選択(適応度の高いものから順番に選択)\n",
    "        for j in range(i_num-elite, i_num): child[j] = genes[np.argsort(fitness)[j]]\n",
    "        #残りはルーレット選択→交叉\n",
    "        for j in range(int((i_num-elite)/2)):\n",
    "            parents = roulette_choice(fitness) #ルーレット選択を実行して2個体を選択　#・・・③\n",
    "            child[2*j], child[2*j+1] = partial_crossover(genes[parents[0]], genes[parents[1]]) #部分交叉 #・・・④\n",
    "        #一定確率で突然変異(エリート選択した個体は突然変異の対象外) #・・・⑤\n",
    "        child = translocation_mutation(child, i_num-elite, p_mutation)\n",
    "        #世代交代\n",
    "        genes = child\n",
    "\n",
    "        #世代のトップ個体がハイスコアを出した場合は最短経路長を更新\n",
    "        if min(path_length) < min_path_length:\n",
    "            min_path_length = min(path_length)\n",
    "            if renzoku == False: #10連続実行のときは実行しない\n",
    "                text1 = text1 + '<第' + str(i+1) + '世代> :' + str(int(min(path_length))) + '[m]\\n'\n",
    "                app.text.set(text1)\n",
    "                print('<第' + str(i+1) + '世代> :' + str(min(path_length)) + '[m]')\n",
    "        \n",
    "    t2 = time.time()\n",
    "    if renzoku == False: #10連続実行のときは実行しない\n",
    "        text1 = text1 +'\\n最短距離：' + str(int(min(path_length))) + '[m]\\n' + '（実行時間：' + str(round(t2 - t1, 3)) + '[s]）'\n",
    "        app.text.set(text1)\n",
    "        print('<最短距離> :' + str(min(path_length)) + '[m]')\n",
    "    \n",
    "    return genes[np.argmin(path_length)]\n"
   ]
  },
  {
   "cell_type": "code",
   "execution_count": null,
   "metadata": {
    "scrolled": true
   },
   "outputs": [
    {
     "name": "stdout",
     "output_type": "stream",
     "text": [
      "<経路探索finish> 距離：1958.63[m]\n",
      "（実行時間：0.053[s]）\n",
      "<経路探索finish> 距離：1958.63[m]\n",
      "（実行時間：0.062[s]）\n",
      "<経路探索finish> 距離：3236.12[m]\n",
      "（実行時間：0.086[s]）\n",
      "<経路探索finish> 距離：3236.12[m]\n",
      "（実行時間：0.302[s]）\n",
      "<経路探索finish> 距離：1667.79[m]\n",
      "（実行時間：0.105[s]）\n",
      "<経路探索finish> 距離：1667.79[m]\n",
      "（実行時間：0.043[s]）\n",
      "<経路探索finish> 距離：1667.79[m]\n",
      "（実行時間：0.675[s]）\n",
      "<経路探索finish> 距離：1667.79[m]\n",
      "（実行時間：0.657[s]）\n",
      "<経路探索finish> 距離：1667.79[m]\n",
      "（実行時間：0.129[s]）\n",
      "<経路探索finish> 距離：1667.79[m]\n",
      "（実行時間：0.053[s]）\n",
      "<経路探索finish> 距離：1667.79[m]\n",
      "（実行時間：0.048[s]）\n",
      "<経路探索finish> 距離：1667.79[m]\n",
      "（実行時間：0.17[s]）\n",
      "<経路探索finish> 距離：1667.79[m]\n",
      "（実行時間：0.047[s]）\n",
      "<経路探索finish> 距離：1667.79[m]\n",
      "（実行時間：0.041[s]）\n",
      "<経路探索finish> 距離：1667.79[m]\n",
      "（実行時間：0.042[s]）\n",
      "<経路探索finish> 距離：1667.79[m]\n",
      "（実行時間：0.039[s]）\n",
      "<経路探索finish> 距離：1667.79[m]\n",
      "（実行時間：0.039[s]）\n",
      "<経路探索finish> 距離：1667.79[m]\n",
      "（実行時間：0.039[s]）\n",
      "<経路探索finish> 距離：1667.79[m]\n",
      "（実行時間：0.04[s]）\n",
      "<経路探索finish> 距離：1667.79[m]\n",
      "（実行時間：0.039[s]）\n",
      "<経路探索finish> 距離：1667.79[m]\n",
      "（実行時間：0.042[s]）\n",
      "<経路探索finish> 距離：1667.79[m]\n",
      "（実行時間：0.045[s]）\n",
      "<経路探索finish> 距離：1667.79[m]\n",
      "（実行時間：0.044[s]）\n",
      "<経路探索finish> 距離：1667.79[m]\n",
      "（実行時間：0.042[s]）\n",
      "<経路探索finish> 距離：1667.79[m]\n",
      "（実行時間：0.044[s]）\n",
      "<経路探索finish> 距離：1667.79[m]\n",
      "（実行時間：0.039[s]）\n",
      "<経路探索finish> 距離：1667.79[m]\n",
      "（実行時間：0.043[s]）\n",
      "<経路探索finish> 距離：1667.79[m]\n",
      "（実行時間：0.039[s]）\n",
      "<選択されたノードID>\n",
      "[25134, 16058, 20318, 21998, 16362, 28236, 12751, 27282, 14222, 13652]\n",
      " \n"
     ]
    },
    {
     "data": {
      "application/vnd.jupyter.widget-view+json": {
       "model_id": "5c8284b61a124ad2b65031535c39f70e",
       "version_major": 2,
       "version_minor": 0
      },
      "text/plain": [
       "HBox(children=(FloatProgress(value=0.0, max=12.0), HTML(value='')))"
      ]
     },
     "metadata": {},
     "output_type": "display_data"
    },
    {
     "name": "stdout",
     "output_type": "stream",
     "text": [
      "\n",
      "<距離行列>\n",
      "[[   0.      3329.096   1541.3334  2851.3223  2093.1401  1877.2789\n",
      "  1541.5809  2492.8826  2451.0156  2491.2021  1730.1077   537.5138 ]\n",
      " [3329.096      0.      2059.5857   996.0239  1829.9617  2126.718\n",
      "  2510.382   1598.9032  1078.3822  1549.5253  1697.12    3266.7778 ]\n",
      " [1541.3334  2059.5857     0.      1581.812    630.8027  1632.0159\n",
      "   509.57877 1387.7937  1144.0533  1040.364    772.189   1479.0151 ]\n",
      " [2851.3223   996.0239  1581.812      0.      1654.4697  1218.1743\n",
      "  2091.3906   718.02856  864.10956 1476.1091  1219.3463  2789.0042 ]\n",
      " [2093.1401  1829.9617   630.8027  1654.4697     0.      1704.6736\n",
      "   886.8526  1460.4514   910.5234   472.57358  933.576   2030.8218 ]\n",
      " [1877.2789  2126.718   1632.0159  1218.1743  1704.6736     0.\n",
      "  2141.5947   757.1245  1479.2363  1776.5693   892.2601  1791.499  ]\n",
      " [1541.5809  2510.382    509.57877 2091.3906   886.8526  2141.5947\n",
      "     0.      1897.3724  1582.3134  1318.8774  1281.7677  1607.3805 ]\n",
      " [2492.8826  1598.9032  1387.7937   718.02856 1460.4514   757.1245\n",
      "  1897.3724     0.       819.88544 1292.267   1025.3281  2426.5522 ]\n",
      " [2451.0156  1078.3822  1144.0533   864.10956  910.5234  1479.2363\n",
      "  1582.3134   819.88544    0.       653.238    884.489   2388.6973 ]\n",
      " [2491.2021  1549.5253  1040.364   1476.1091   472.57358 1776.5693\n",
      "  1318.8774  1292.267    653.238      0.      1021.8285  2428.884  ]\n",
      " [1730.1077  1697.12     772.189   1219.3463   933.576    892.2601\n",
      "  1281.7677  1025.3281   884.489   1021.8285     0.      1667.7894 ]\n",
      " [ 537.5138  3266.7778  1479.0151  2789.0042  2030.8218  1791.499\n",
      "  1607.3805  2426.5522  2388.6973  2428.884   1667.7894     0.     ]]\n",
      "（実行時間：2.206[s]）\n",
      " \n"
     ]
    },
    {
     "data": {
      "application/vnd.jupyter.widget-view+json": {
       "model_id": "069d5da073404fba80757ba16a641210",
       "version_major": 2,
       "version_minor": 0
      },
      "text/plain": [
       "HBox(children=(FloatProgress(value=0.0, max=12.0), HTML(value='')))"
      ]
     },
     "metadata": {},
     "output_type": "display_data"
    },
    {
     "name": "stdout",
     "output_type": "stream",
     "text": [
      "\n",
      "<距離行列>\n",
      "[[   0.      3329.096   1541.3334  2851.3223  2093.1401  1877.2789\n",
      "  1541.5809  2492.8826  2451.0156  2491.2021  1730.1077   537.5138 ]\n",
      " [3329.096      0.      2059.5857   996.0239  1829.9617  2126.718\n",
      "  2510.382   1598.9032  1078.3822  1549.5253  1697.12    3266.7778 ]\n",
      " [1541.3334  2059.5857     0.      1581.812    630.8027  1632.0159\n",
      "   509.57877 1387.7937  1144.0533  1040.364    772.189   1479.0151 ]\n",
      " [2851.3223   996.0239  1581.812      0.      1654.4697  1218.1743\n",
      "  2091.3906   718.02856  864.10956 1476.1091  1219.3463  2789.0042 ]\n",
      " [2093.1401  1829.9617   630.8027  1654.4697     0.      1704.6736\n",
      "   886.8526  1460.4514   910.5234   472.57358  933.576   2030.8218 ]\n",
      " [1877.2789  2126.718   1632.0159  1218.1743  1704.6736     0.\n",
      "  2141.5947   757.1245  1479.2363  1776.5693   892.2601  1791.499  ]\n",
      " [1541.5809  2510.382    509.57877 2091.3906   886.8526  2141.5947\n",
      "     0.      1897.3724  1582.3134  1318.8774  1281.7677  1607.3805 ]\n",
      " [2492.8826  1598.9032  1387.7937   718.02856 1460.4514   757.1245\n",
      "  1897.3724     0.       819.88544 1292.267   1025.3281  2426.5522 ]\n",
      " [2451.0156  1078.3822  1144.0533   864.10956  910.5234  1479.2363\n",
      "  1582.3134   819.88544    0.       653.238    884.489   2388.6973 ]\n",
      " [2491.2021  1549.5253  1040.364   1476.1091   472.57358 1776.5693\n",
      "  1318.8774  1292.267    653.238      0.      1021.8285  2428.884  ]\n",
      " [1730.1077  1697.12     772.189   1219.3463   933.576    892.2601\n",
      "  1281.7677  1025.3281   884.489   1021.8285     0.      1667.7894 ]\n",
      " [ 537.5138  3266.7778  1479.0151  2789.0042  2030.8218  1791.499\n",
      "  1607.3805  2426.5522  2388.6973  2428.884   1667.7894     0.     ]]\n",
      "（実行時間：2.216[s]）\n",
      " \n"
     ]
    },
    {
     "data": {
      "application/vnd.jupyter.widget-view+json": {
       "model_id": "9a55f27fccd9413cbcfdb72a85f2f9d6",
       "version_major": 2,
       "version_minor": 0
      },
      "text/plain": [
       "HBox(children=(FloatProgress(value=0.0), HTML(value='')))"
      ]
     },
     "metadata": {},
     "output_type": "display_data"
    },
    {
     "name": "stdout",
     "output_type": "stream",
     "text": [
      "<第1世代> :13432.282257080078[m]\n",
      "<第3世代> :13200.04312133789[m]\n",
      "<第4世代> :12823.565032958984[m]\n",
      "<第5世代> :12326.366302490234[m]\n",
      "<第7世代> :12261.539642333984[m]\n",
      "<第14世代> :12063.76644897461[m]\n",
      "<第17世代> :11881.83432006836[m]\n",
      "<第19世代> :11821.439971923828[m]\n",
      "<第22世代> :10651.766632080078[m]\n",
      "<第28世代> :10241.477661132812[m]\n",
      "<第32世代> :9902.667297363281[m]\n",
      "<第33世代> :9551.479919433594[m]\n",
      "<第42世代> :9453.708984375[m]\n",
      "<第43世代> :8787.106994628906[m]\n",
      "\n",
      "<最短距離> :8787.106994628906[m]\n",
      "<経路探索finish>\n",
      "（実行時間：0.749[s]）\n"
     ]
    },
    {
     "data": {
      "application/vnd.jupyter.widget-view+json": {
       "model_id": "85f4190563c447a08a7ddd4e2be8f4a9",
       "version_major": 2,
       "version_minor": 0
      },
      "text/plain": [
       "HBox(children=(FloatProgress(value=0.0), HTML(value='')))"
      ]
     },
     "metadata": {},
     "output_type": "display_data"
    },
    {
     "name": "stdout",
     "output_type": "stream",
     "text": [
      "\n"
     ]
    },
    {
     "data": {
      "application/vnd.jupyter.widget-view+json": {
       "model_id": "d89beb26a9b6469582325f2dcedfb4c1",
       "version_major": 2,
       "version_minor": 0
      },
      "text/plain": [
       "HBox(children=(FloatProgress(value=0.0), HTML(value='')))"
      ]
     },
     "metadata": {},
     "output_type": "display_data"
    },
    {
     "name": "stdout",
     "output_type": "stream",
     "text": [
      "\n"
     ]
    },
    {
     "data": {
      "application/vnd.jupyter.widget-view+json": {
       "model_id": "21e65765dd8b484f80b2cfe8faf30743",
       "version_major": 2,
       "version_minor": 0
      },
      "text/plain": [
       "HBox(children=(FloatProgress(value=0.0), HTML(value='')))"
      ]
     },
     "metadata": {},
     "output_type": "display_data"
    },
    {
     "name": "stdout",
     "output_type": "stream",
     "text": [
      "\n"
     ]
    },
    {
     "data": {
      "application/vnd.jupyter.widget-view+json": {
       "model_id": "3237abacc3424c0d80c325c9cc9bf80b",
       "version_major": 2,
       "version_minor": 0
      },
      "text/plain": [
       "HBox(children=(FloatProgress(value=0.0), HTML(value='')))"
      ]
     },
     "metadata": {},
     "output_type": "display_data"
    },
    {
     "name": "stdout",
     "output_type": "stream",
     "text": [
      "\n"
     ]
    },
    {
     "data": {
      "application/vnd.jupyter.widget-view+json": {
       "model_id": "671e0dc2a3e148da8015667a8966e97f",
       "version_major": 2,
       "version_minor": 0
      },
      "text/plain": [
       "HBox(children=(FloatProgress(value=0.0), HTML(value='')))"
      ]
     },
     "metadata": {},
     "output_type": "display_data"
    },
    {
     "name": "stdout",
     "output_type": "stream",
     "text": [
      "\n"
     ]
    },
    {
     "data": {
      "application/vnd.jupyter.widget-view+json": {
       "model_id": "447041b3a0514bfcba5a9d7b2bae6597",
       "version_major": 2,
       "version_minor": 0
      },
      "text/plain": [
       "HBox(children=(FloatProgress(value=0.0), HTML(value='')))"
      ]
     },
     "metadata": {},
     "output_type": "display_data"
    },
    {
     "name": "stdout",
     "output_type": "stream",
     "text": [
      "\n"
     ]
    },
    {
     "data": {
      "application/vnd.jupyter.widget-view+json": {
       "model_id": "6ddba64f02694180b0c5035de42dc987",
       "version_major": 2,
       "version_minor": 0
      },
      "text/plain": [
       "HBox(children=(FloatProgress(value=0.0), HTML(value='')))"
      ]
     },
     "metadata": {},
     "output_type": "display_data"
    },
    {
     "name": "stdout",
     "output_type": "stream",
     "text": [
      "\n"
     ]
    },
    {
     "data": {
      "application/vnd.jupyter.widget-view+json": {
       "model_id": "d780769a331f4b05b389ff8b9d039c0a",
       "version_major": 2,
       "version_minor": 0
      },
      "text/plain": [
       "HBox(children=(FloatProgress(value=0.0), HTML(value='')))"
      ]
     },
     "metadata": {},
     "output_type": "display_data"
    },
    {
     "name": "stdout",
     "output_type": "stream",
     "text": [
      "\n"
     ]
    },
    {
     "data": {
      "application/vnd.jupyter.widget-view+json": {
       "model_id": "609ee889dd3e442f96a1f93974f88d7e",
       "version_major": 2,
       "version_minor": 0
      },
      "text/plain": [
       "HBox(children=(FloatProgress(value=0.0), HTML(value='')))"
      ]
     },
     "metadata": {},
     "output_type": "display_data"
    },
    {
     "name": "stdout",
     "output_type": "stream",
     "text": [
      "\n"
     ]
    },
    {
     "data": {
      "application/vnd.jupyter.widget-view+json": {
       "model_id": "419891efb4d4470081f9d994c6a237fc",
       "version_major": 2,
       "version_minor": 0
      },
      "text/plain": [
       "HBox(children=(FloatProgress(value=0.0), HTML(value='')))"
      ]
     },
     "metadata": {},
     "output_type": "display_data"
    },
    {
     "name": "stdout",
     "output_type": "stream",
     "text": [
      "\n"
     ]
    },
    {
     "data": {
      "application/vnd.jupyter.widget-view+json": {
       "model_id": "2f40f40558f8426d88e7a2aca1eda029",
       "version_major": 2,
       "version_minor": 0
      },
      "text/plain": [
       "HBox(children=(FloatProgress(value=0.0), HTML(value='')))"
      ]
     },
     "metadata": {},
     "output_type": "display_data"
    },
    {
     "name": "stdout",
     "output_type": "stream",
     "text": [
      "\n"
     ]
    },
    {
     "data": {
      "application/vnd.jupyter.widget-view+json": {
       "model_id": "ce8b4e6f488d410c83ff2e94c977b70a",
       "version_major": 2,
       "version_minor": 0
      },
      "text/plain": [
       "HBox(children=(FloatProgress(value=0.0), HTML(value='')))"
      ]
     },
     "metadata": {},
     "output_type": "display_data"
    },
    {
     "name": "stdout",
     "output_type": "stream",
     "text": [
      "\n"
     ]
    },
    {
     "data": {
      "application/vnd.jupyter.widget-view+json": {
       "model_id": "4239cdf7e4a14bd487082110fbdb1c4c",
       "version_major": 2,
       "version_minor": 0
      },
      "text/plain": [
       "HBox(children=(FloatProgress(value=0.0), HTML(value='')))"
      ]
     },
     "metadata": {},
     "output_type": "display_data"
    },
    {
     "name": "stdout",
     "output_type": "stream",
     "text": [
      "\n"
     ]
    },
    {
     "data": {
      "application/vnd.jupyter.widget-view+json": {
       "model_id": "6b250a4b977c49288e77fc48661e750c",
       "version_major": 2,
       "version_minor": 0
      },
      "text/plain": [
       "HBox(children=(FloatProgress(value=0.0), HTML(value='')))"
      ]
     },
     "metadata": {},
     "output_type": "display_data"
    },
    {
     "name": "stdout",
     "output_type": "stream",
     "text": [
      "\n"
     ]
    },
    {
     "data": {
      "application/vnd.jupyter.widget-view+json": {
       "model_id": "39923106f1c04361b10bf271579034a4",
       "version_major": 2,
       "version_minor": 0
      },
      "text/plain": [
       "HBox(children=(FloatProgress(value=0.0), HTML(value='')))"
      ]
     },
     "metadata": {},
     "output_type": "display_data"
    },
    {
     "name": "stdout",
     "output_type": "stream",
     "text": [
      "\n"
     ]
    },
    {
     "data": {
      "application/vnd.jupyter.widget-view+json": {
       "model_id": "f5c18c81d530491090d22f6afb204f57",
       "version_major": 2,
       "version_minor": 0
      },
      "text/plain": [
       "HBox(children=(FloatProgress(value=0.0), HTML(value='')))"
      ]
     },
     "metadata": {},
     "output_type": "display_data"
    },
    {
     "name": "stdout",
     "output_type": "stream",
     "text": [
      "\n"
     ]
    },
    {
     "data": {
      "application/vnd.jupyter.widget-view+json": {
       "model_id": "e4098c56582f41bc8b47cc299f11ced4",
       "version_major": 2,
       "version_minor": 0
      },
      "text/plain": [
       "HBox(children=(FloatProgress(value=0.0), HTML(value='')))"
      ]
     },
     "metadata": {},
     "output_type": "display_data"
    },
    {
     "name": "stdout",
     "output_type": "stream",
     "text": [
      "\n"
     ]
    },
    {
     "data": {
      "application/vnd.jupyter.widget-view+json": {
       "model_id": "80e7176928f641fe82f63ac9e11eef2c",
       "version_major": 2,
       "version_minor": 0
      },
      "text/plain": [
       "HBox(children=(FloatProgress(value=0.0), HTML(value='')))"
      ]
     },
     "metadata": {},
     "output_type": "display_data"
    },
    {
     "name": "stdout",
     "output_type": "stream",
     "text": [
      "\n"
     ]
    },
    {
     "data": {
      "application/vnd.jupyter.widget-view+json": {
       "model_id": "7180431d349e455399126adfaf9d32d0",
       "version_major": 2,
       "version_minor": 0
      },
      "text/plain": [
       "HBox(children=(FloatProgress(value=0.0), HTML(value='')))"
      ]
     },
     "metadata": {},
     "output_type": "display_data"
    },
    {
     "name": "stdout",
     "output_type": "stream",
     "text": [
      "\n"
     ]
    },
    {
     "data": {
      "application/vnd.jupyter.widget-view+json": {
       "model_id": "61864bd77fb14e77b44566fde3bdb95e",
       "version_major": 2,
       "version_minor": 0
      },
      "text/plain": [
       "HBox(children=(FloatProgress(value=0.0), HTML(value='')))"
      ]
     },
     "metadata": {},
     "output_type": "display_data"
    },
    {
     "name": "stdout",
     "output_type": "stream",
     "text": [
      "\n"
     ]
    },
    {
     "data": {
      "application/vnd.jupyter.widget-view+json": {
       "model_id": "f5b11f9632454b26a320ae2fdaf17111",
       "version_major": 2,
       "version_minor": 0
      },
      "text/plain": [
       "HBox(children=(FloatProgress(value=0.0), HTML(value='')))"
      ]
     },
     "metadata": {},
     "output_type": "display_data"
    },
    {
     "name": "stdout",
     "output_type": "stream",
     "text": [
      "\n"
     ]
    },
    {
     "data": {
      "application/vnd.jupyter.widget-view+json": {
       "model_id": "b149d7da5fbf46a3a9bf76ce6aaba0d5",
       "version_major": 2,
       "version_minor": 0
      },
      "text/plain": [
       "HBox(children=(FloatProgress(value=0.0), HTML(value='')))"
      ]
     },
     "metadata": {},
     "output_type": "display_data"
    },
    {
     "name": "stdout",
     "output_type": "stream",
     "text": [
      "\n"
     ]
    },
    {
     "data": {
      "application/vnd.jupyter.widget-view+json": {
       "model_id": "864702d1cddb4169943dc3b3f594cf0b",
       "version_major": 2,
       "version_minor": 0
      },
      "text/plain": [
       "HBox(children=(FloatProgress(value=0.0), HTML(value='')))"
      ]
     },
     "metadata": {},
     "output_type": "display_data"
    },
    {
     "name": "stdout",
     "output_type": "stream",
     "text": [
      "\n"
     ]
    },
    {
     "data": {
      "application/vnd.jupyter.widget-view+json": {
       "model_id": "80f94db7bb28483e8ca81db46bf218f1",
       "version_major": 2,
       "version_minor": 0
      },
      "text/plain": [
       "HBox(children=(FloatProgress(value=0.0), HTML(value='')))"
      ]
     },
     "metadata": {},
     "output_type": "display_data"
    },
    {
     "name": "stdout",
     "output_type": "stream",
     "text": [
      "\n"
     ]
    },
    {
     "data": {
      "application/vnd.jupyter.widget-view+json": {
       "model_id": "8d37ae512ab348a5af3e43c4c745fcb3",
       "version_major": 2,
       "version_minor": 0
      },
      "text/plain": [
       "HBox(children=(FloatProgress(value=0.0), HTML(value='')))"
      ]
     },
     "metadata": {},
     "output_type": "display_data"
    },
    {
     "name": "stdout",
     "output_type": "stream",
     "text": [
      "\n"
     ]
    },
    {
     "data": {
      "application/vnd.jupyter.widget-view+json": {
       "model_id": "3e8448e58a2b47369813e2e1a859ab15",
       "version_major": 2,
       "version_minor": 0
      },
      "text/plain": [
       "HBox(children=(FloatProgress(value=0.0), HTML(value='')))"
      ]
     },
     "metadata": {},
     "output_type": "display_data"
    },
    {
     "name": "stdout",
     "output_type": "stream",
     "text": [
      "\n"
     ]
    },
    {
     "data": {
      "application/vnd.jupyter.widget-view+json": {
       "model_id": "3f2808e59283465882fc689f9e98b242",
       "version_major": 2,
       "version_minor": 0
      },
      "text/plain": [
       "HBox(children=(FloatProgress(value=0.0), HTML(value='')))"
      ]
     },
     "metadata": {},
     "output_type": "display_data"
    },
    {
     "name": "stdout",
     "output_type": "stream",
     "text": [
      "\n"
     ]
    },
    {
     "data": {
      "application/vnd.jupyter.widget-view+json": {
       "model_id": "017e709134404772868fd5d9c375a1b0",
       "version_major": 2,
       "version_minor": 0
      },
      "text/plain": [
       "HBox(children=(FloatProgress(value=0.0), HTML(value='')))"
      ]
     },
     "metadata": {},
     "output_type": "display_data"
    },
    {
     "name": "stdout",
     "output_type": "stream",
     "text": [
      "\n"
     ]
    },
    {
     "data": {
      "application/vnd.jupyter.widget-view+json": {
       "model_id": "5daf92a39aec44eca1e750b99fa20fbc",
       "version_major": 2,
       "version_minor": 0
      },
      "text/plain": [
       "HBox(children=(FloatProgress(value=0.0), HTML(value='')))"
      ]
     },
     "metadata": {},
     "output_type": "display_data"
    },
    {
     "name": "stdout",
     "output_type": "stream",
     "text": [
      "\n"
     ]
    },
    {
     "data": {
      "application/vnd.jupyter.widget-view+json": {
       "model_id": "bf0a85e435dc4878a726d2a9b2562020",
       "version_major": 2,
       "version_minor": 0
      },
      "text/plain": [
       "HBox(children=(FloatProgress(value=0.0), HTML(value='')))"
      ]
     },
     "metadata": {},
     "output_type": "display_data"
    },
    {
     "name": "stdout",
     "output_type": "stream",
     "text": [
      "\n"
     ]
    },
    {
     "data": {
      "application/vnd.jupyter.widget-view+json": {
       "model_id": "2d3e6dce042e418395e254e9e1034701",
       "version_major": 2,
       "version_minor": 0
      },
      "text/plain": [
       "HBox(children=(FloatProgress(value=0.0), HTML(value='')))"
      ]
     },
     "metadata": {},
     "output_type": "display_data"
    },
    {
     "name": "stdout",
     "output_type": "stream",
     "text": [
      "<第1世代> :12460.841430664062[m]\n",
      "<第3世代> :12251.130462646484[m]\n",
      "<第4世代> :11895.379119873047[m]\n",
      "<第6世代> :11468.768798828125[m]\n",
      "<第11世代> :10994.652557373047[m]\n",
      "<第28世代> :10848.375518798828[m]\n",
      "<第33世代> :10820.828247070312[m]\n",
      "<第38世代> :10658.303344726562[m]\n",
      "<第48世代> :9551.479919433594[m]\n",
      "\n",
      "<最短距離> :9551.479919433594[m]\n",
      "<経路探索finish>\n",
      "（実行時間：0.698[s]）\n"
     ]
    },
    {
     "data": {
      "application/vnd.jupyter.widget-view+json": {
       "model_id": "0b24989f05b345d5b073ab71896fc8e3",
       "version_major": 2,
       "version_minor": 0
      },
      "text/plain": [
       "HBox(children=(FloatProgress(value=0.0), HTML(value='')))"
      ]
     },
     "metadata": {},
     "output_type": "display_data"
    },
    {
     "name": "stdout",
     "output_type": "stream",
     "text": [
      "<第1世代> :13057.236022949219[m]\n",
      "<第2世代> :12428.65560913086[m]\n",
      "<第9世代> :12374.094818115234[m]\n",
      "<第13世代> :11128.541564941406[m]\n",
      "<第20世代> :10087.22103881836[m]\n",
      "<第28世代> :8787.106994628906[m]\n",
      "\n",
      "<最短距離> :8787.106994628906[m]\n",
      "<経路探索finish>\n",
      "（実行時間：0.592[s]）\n"
     ]
    },
    {
     "data": {
      "application/vnd.jupyter.widget-view+json": {
       "model_id": "4501181ccd5e4be28d8bda38e700de51",
       "version_major": 2,
       "version_minor": 0
      },
      "text/plain": [
       "HBox(children=(FloatProgress(value=0.0), HTML(value='')))"
      ]
     },
     "metadata": {},
     "output_type": "display_data"
    },
    {
     "name": "stdout",
     "output_type": "stream",
     "text": [
      "<第1世代> :13615.340881347656[m]\n",
      "<第3世代> :13589.267822265625[m]\n",
      "<第5世代> :13166.391235351562[m]\n",
      "<第6世代> :11852.796844482422[m]\n",
      "<第13世代> :11596.99447631836[m]\n",
      "<第19世代> :10810.273040771484[m]\n",
      "<第22世代> :10114.591857910156[m]\n",
      "<第35世代> :9420.32080078125[m]\n",
      "\n",
      "<最短距離> :9420.32080078125[m]\n",
      "<経路探索finish>\n",
      "（実行時間：0.617[s]）\n"
     ]
    },
    {
     "data": {
      "application/vnd.jupyter.widget-view+json": {
       "model_id": "d599090c25ba4ad99ef94d7f6a530852",
       "version_major": 2,
       "version_minor": 0
      },
      "text/plain": [
       "HBox(children=(FloatProgress(value=0.0), HTML(value='')))"
      ]
     },
     "metadata": {},
     "output_type": "display_data"
    },
    {
     "name": "stdout",
     "output_type": "stream",
     "text": [
      "<第1世代> :14039.957244873047[m]\n",
      "<第2世代> :14004.397186279297[m]\n",
      "<第3世代> :12950.527404785156[m]\n",
      "<第4世代> :12703.940979003906[m]\n",
      "<第5世代> :11679.586608886719[m]\n",
      "<第9世代> :11489.06103515625[m]\n",
      "<第10世代> :11114.88916015625[m]\n",
      "<第32世代> :10976.392456054688[m]\n",
      "<第36世代> :10722.863647460938[m]\n",
      "<第46世代> :10639.207336425781[m]\n",
      "\n",
      "<最短距離> :10639.207336425781[m]\n",
      "<経路探索finish>\n",
      "（実行時間：0.679[s]）\n",
      "<経路探索finish> 距離：1133.79[m]\n",
      "（実行時間：0.027[s]）\n",
      "<経路探索finish> 距離：5340.01[m]\n",
      "（実行時間：0.181[s]）\n",
      "<経路探索finish> 距離：5340.01[m]\n",
      "（実行時間：0.189[s]）\n",
      "<経路探索finish> 距離：5340.01[m]\n",
      "（実行時間：0.184[s]）\n",
      "<経路探索finish> 距離：5340.01[m]\n",
      "（実行時間：0.182[s]）\n",
      "<経路探索finish> 距離：5340.01[m]\n",
      "（実行時間：0.189[s]）\n",
      "<経路探索finish> 距離：5340.01[m]\n",
      "（実行時間：0.15[s]）\n",
      "<経路探索finish> 距離：5340.01[m]\n",
      "（実行時間：0.146[s]）\n",
      "<経路探索finish> 距離：5340.01[m]\n",
      "（実行時間：0.154[s]）\n",
      "<経路探索finish> 距離：5340.01[m]\n",
      "（実行時間：0.149[s]）\n",
      "<経路探索finish> 距離：5340.01[m]\n",
      "（実行時間：0.618[s]）\n",
      "<経路探索finish> 距離：5340.01[m]\n",
      "（実行時間：0.642[s]）\n",
      "<経路探索finish> 距離：1182.68[m]\n",
      "（実行時間：0.056[s]）\n",
      "<経路探索finish> 距離：1930.75[m]\n",
      "（実行時間：0.083[s]）\n",
      "<経路探索finish> 距離：1930.75[m]\n",
      "（実行時間：0.078[s]）\n",
      "<経路探索finish> 距離：1930.75[m]\n",
      "（実行時間：0.079[s]）\n",
      "<経路探索finish> 距離：1930.75[m]\n",
      "（実行時間：0.085[s]）\n"
     ]
    }
   ],
   "source": [
    "import tkinter as tk\n",
    "import tkinter.ttk as ttk\n",
    "from tkinter import messagebox\n",
    "\n",
    "#ダイクストラ用\n",
    "select_nid = None #選択(クリック中)ノードのID\n",
    "start_nid = None #始点ノードのID\n",
    "goal_nid = None #終点ノードのID\n",
    "count = 1 #確定ノード数(始点は最初から確定なのでcount=1)\n",
    "dict_link_comp = []#探索済みリンクidのリスト\n",
    "\n",
    "#遺伝的アルゴリズム用\n",
    "n_num = 10 #ノード数\n",
    "i_num = 30 #一世代の個体数\n",
    "generation = 100 #世代数\n",
    "elite = 4 #エリート選択数(個体数-エリート選択数は偶数)\n",
    "p_mutation = 0.01 #突然変異率\n",
    "origin_nodes = None #ランダムで選択したノードIDを格納\n",
    "origin_nodes_2 = None #スタートとゴールも含めた巡回地点\n",
    "distance_matrix = None #距離行列\n",
    "passed_links_matrix = None #経由リンクlistの行列\n",
    "renzoku = False #10連続実行=True\n",
    "min_path_length = float('inf') #最短経路長\n",
    "\n",
    "#描画の設定\n",
    "zoom = 1 #canvasの倍率\n",
    "psize_ = 30 #描画する選択ノードの大きさ\n",
    "rwidth = 5 #描画するリンクの太さ\n",
    "keep_delta = 0\n",
    "#描画のtag…[map, select, start, goal, result, select_GA, result_GA]\n",
    "\n",
    "is_clicking = False\n",
    "before_x = 0\n",
    "before_y = 0\n",
    "value_bar = 0 #プログレスバー\n",
    "\n",
    "class MyApp1(tk.Frame):\n",
    "    \n",
    "    def __init__(self, master=None):\n",
    "        super().__init__(master)\n",
    "        self.pack()\n",
    "        \n",
    "        #キャンバスを入れるフレームを作成\n",
    "        self.frame = tk.Frame(root,width=canvas_size[0],height=canvas_size[1])\n",
    "        self.frame.pack(side=tk.LEFT, expand=True, fill=tk.BOTH)\n",
    "        #キャンバスを作成\n",
    "        self.canvas = tk.Canvas(self.frame, width=canvas_size[0], height=canvas_size[1],\n",
    "                                scrollregion=(-canvas_size[0]/4,-canvas_size[1]/4,canvas_size[0]*5/4,canvas_size[1]*5/4))\n",
    "        self.Draw_map() #キャンバスに図面を描画\n",
    "        #スクロールバーを作成\n",
    "        self.hbar=ttk.Scrollbar(self.frame,orient=tk.HORIZONTAL)\n",
    "        self.hbar.pack(side=tk.BOTTOM,fill=tk.X)\n",
    "        self.hbar.config(command=self.canvas.xview)\n",
    "        self.vbar=ttk.Scrollbar(self.frame,orient=tk.VERTICAL)\n",
    "        self.vbar.pack(side=tk.RIGHT,fill=tk.Y)\n",
    "        self.vbar.config(command=self.canvas.yview)\n",
    "        self.canvas.config(xscrollcommand=self.hbar.set, yscrollcommand=self.vbar.set)\n",
    "        #プログレスバーの作成\n",
    "        self.progressbar = ttk.Progressbar(root, orient=tk.HORIZONTAL, length=200, mode='determinate')\n",
    "        self.progressbar.pack(side=\"bottom\")\n",
    "        #クリックイベントの作成\n",
    "        self.canvas.bind('<Double-Button-1>', self.mouse_canvas) #キャンバス上でダブルクリックされたときのイベントを設定\n",
    "        #self.canvas.bind('<MouseWheel>', self.Zoom_Map) #キャンバス上で左クリックされたときのイベントを設定\n",
    "        self.canvas.bind(\"<ButtonPress-1>\", self.Start_Scroll) #ドラッグでスクロール\n",
    "        self.canvas.bind(\"<B1-Motion>\", self.Scroll) #ドラッグでスクロール\n",
    "        self.canvas.bind(\"<ButtonRelease-1>\", self.End_Scroll) #ドラッグでスクロール\n",
    "        self.canvas.pack(expand=True, fill=tk.BOTH)\n",
    "        # チェックボタン作成\n",
    "        self.bln = tk.BooleanVar()\n",
    "        self.bln2 = tk.BooleanVar()\n",
    "        self.bln3 = tk.BooleanVar()\n",
    "        self.bln.set(True)\n",
    "        self.bln2.set(False)\n",
    "        self.bln3.set(False)\n",
    "        #ラベルの作成\n",
    "        self.text1 = tk.StringVar()\n",
    "        self.text = tk.StringVar()\n",
    "        self.text1.set(\"\")\n",
    "        self.text.set(\"　　　　　　　　　　\")\n",
    "        # ボタンとかの配置\n",
    "        self.chk = tk.Checkbutton(root, bg = 'lemon chiffon', variable=self.bln, text='A*アルゴリズムを使用').pack()\n",
    "        self.words = tk.Label(root, bg = 'lemon chiffon', textvariable=self.text1, font=(\"\", 12)).pack()\n",
    "        self.button1 = tk.Button(root, width=20, text = 'スタート地点を設定', fg = \"Lightblue3\", command = self.button1_click).pack()\n",
    "        self.button2 = tk.Button(root, width=20, text = 'ゴール地点を設定', fg = \"Lightpink3\", command = self.button2_click).pack()\n",
    "        self.button3 = tk.Button(root, width=20, text = 'ランダムで２地点を設定', command = self.button3_click).pack()\n",
    "        self.button4 = tk.Button(root, width=20, text='２地点の最短経路を算出', fg = \"red\", command=self.button4_click).pack()\n",
    "        self.chk2 = tk.Checkbutton(root, bg = 'lemon chiffon', variable=self.bln2, text='探索済みリンクを描画').pack() # チェックボタン作成\n",
    "        self.words = tk.Label(root, bg = 'lemon chiffon', textvariable=self.text1, font=(\"\", 12)).pack() #空行を挿入\n",
    "        self.button5 = tk.Button(root, width=20, text = 'ランダムで巡回地点を設定', command = self.button5_click).pack()\n",
    "        self.button6 = tk.Button(root, width=20, text = '距離行列を算出', command = self.button6_click).pack()\n",
    "        self.button7 = tk.Button(root, width=20, text='遺伝的アルゴリズム - 実行', fg = \"orange\", command=self.button7_click).pack()\n",
    "        self.button8 = tk.Button(root, width=20, text='10連続で実行', fg = \"orange\", command=self.button8_click).pack()\n",
    "        self.chk3 = tk.Checkbutton(root, bg = 'lemon chiffon', variable=self.bln3, text='循環ルートを検索').pack() # チェックボタン作成\n",
    "        self.words = tk.Label(root, bg = 'lemon chiffon', textvariable=self.text1, font=(\"\", 12)).pack() #空行を挿入\n",
    "        self.button_zoom_in = tk.Button(root, width=20, text = '拡大', command = self.Zoom_In).pack()\n",
    "        self.button_zoom_out = tk.Button(root, width=20, text = '縮小', command = self.Zoom_Out).pack()\n",
    "        self.words = tk.Label(root, bg = 'lemon chiffon', textvariable=self.text1, font=(\"\", 12)).pack() #空行を挿入\n",
    "        self.words = tk.Label(root, textvariable=self.text, font=(\"\", 12)).pack()\n",
    "        \n",
    "    #プログレスバーの更新\n",
    "    def var_start(self, maximum_bar):\n",
    "        global value_bar\n",
    "        value_bar += 1\n",
    "        self.progressbar.configure(maximum=maximum_bar, value=value_bar)\n",
    "        self.progressbar.update()\n",
    "        if value_bar==maximum_bar:\n",
    "            self.progressbar.stop()\n",
    "            value_bar = 0\n",
    "    \n",
    "    #ドラッグで画面スクロール    \n",
    "    def Start_Scroll(self, event):\n",
    "        global is_clicking, before_x, before_y\n",
    "        is_clicking = True # クリック中フラグを立てる\n",
    "        before_x, before_y = event.x, event.y # 現在のマウスの位置を記憶\n",
    "    def Scroll(self, event):\n",
    "        global before_x, before_y\n",
    "        if is_clicking:\n",
    "            dx, dy = event.x - before_x, event.y - before_y # 前回からのマウスのピクセル数を取得\n",
    "            h, v = self.hbar.delta(dx, dy), self.vbar.delta(dx, dy) # 「マウスの移動量」を取得\n",
    "            start_x, end_x = self.hbar.get() # 水平方向の「現在のキャンバスのスクロール位置」を取得\n",
    "            start_y, end_y = self.vbar.get() # 垂直方向の「現在のキャンバスのスクロール位置」を取得\n",
    "            after_x = max(min(start_x - h, 1.0), 0.0)  # 水平方向の「移動後のキャンバスのスクロール位置」を取得# 値は0〜1に丸める\n",
    "            after_y = max(min(start_y - v, 1.0), 0.0) # 垂直方向の「移動後のキャンバスのスクロール位置」を取得 # 値は0〜1に丸める\n",
    "            self.canvas.xview_moveto(after_x) # 水平方向に対して「移動後のキャンバスのスクロール位置」にスクロール\n",
    "            self.canvas.yview_moveto(after_y) # 垂直方向に対して「移動後のキャンバスのスクロール位置」にスクロール\n",
    "            before_x, before_y = event.x, event.y # 現在のマウスの位置を記憶\n",
    "    def End_Scroll(self, event):\n",
    "        global is_clicking\n",
    "        is_clicking = False # クリック中フラグを下ろす\n",
    "    \n",
    "    #図面の拡大縮小\n",
    "    def Zoom_In(self): #拡大ボタン\n",
    "        global zoom\n",
    "        zoom *= 1.5\n",
    "        self.canvas.delete('select', 'start', 'goal', 'result', 'select_GA', 'result_GA')\n",
    "        self.canvas.config(scrollregion=(-canvas_size[0]*zoom/4,-canvas_size[1]*zoom/4,canvas_size[0]*zoom*5/4,canvas_size[1]*zoom*5/4))\n",
    "        self.Draw_map()\n",
    "    def Zoom_Out(self): #縮小ボタン\n",
    "        global zoom\n",
    "        zoom /= 1.5\n",
    "        self.canvas.delete('select', 'start', 'goal', 'result', 'select_GA', 'result_GA')\n",
    "        self.canvas.config(scrollregion=(-canvas_size[0]*zoom/4,-canvas_size[1]*zoom/4,canvas_size[0]*zoom*5/4,canvas_size[1]*zoom*5/4))\n",
    "        self.Draw_map()\n",
    "    def Zoom_Map(self, event): #ホイールで拡大縮小\n",
    "        global zoom, keep_delta\n",
    "        keep_delta += event.delta\n",
    "        if keep_delta > -1200:\n",
    "            zoom *= (100+keep_delta/12) / 100\n",
    "            self.canvas.delete('select', 'start', 'goal', 'result', 'select_GA', 'result_GA')\n",
    "            self.Create_Canvas()\n",
    "            self.Draw_map()\n",
    "    \n",
    "    #図面の描画\n",
    "    def Draw_map(self):\n",
    "        self.canvas.delete('map')\n",
    "        for link in dict_link.values(): self.Draw_link(link, 'gray50', link.w*ratio, 'map') #全リンクの描画\n",
    "    #リンクの描画\n",
    "    def Draw_link(self, link, color, w, tag):\n",
    "        x1, y1 = (dict_node[link.nid1].x - vertex[0]) * ratio * zoom, (dict_node[link.nid1].y - vertex[1]) * ratio * zoom\n",
    "        x2, y2 = (dict_node[link.nid2].x - vertex[0]) * ratio * zoom, (dict_node[link.nid2].y - vertex[1]) * ratio * zoom\n",
    "        self.canvas.create_line(x1, y1, x2, y2, fill = color, width = w * zoom, tag = tag) \n",
    "    #ノードの描画\n",
    "    def Draw_node(self, node, color, size, tag):\n",
    "        x1, y1 = ((node.x - size) - vertex[0]) * ratio * zoom, ((node.y - size) - vertex[1]) * ratio * zoom\n",
    "        x2, y2 = ((node.x + size) - vertex[0]) * ratio * zoom, ((node.y + size) - vertex[1]) * ratio * zoom\n",
    "        self.canvas.create_oval(x1, y1, x2, y2, fill = color, tag = tag)\n",
    "       \n",
    "    #左クリックした点から最も近いノードを選択\n",
    "    def mouse_canvas(self, event):\n",
    "        global select_nid\n",
    "        click_x, click_y = (self.canvas.canvasx(event.x) / ratio) / zoom + vertex[0], (self.canvas.canvasy(event.y) / ratio) / zoom + vertex[1]\n",
    "        l, nid =  float('inf'), None\n",
    "        for node in dict_node.values(): #各ノードまでの距離を比較して最も近いノードを選択\n",
    "            l_ = ((node.x - click_x)**2) + ((node.y - click_y)**2)\n",
    "            if l_ < l: l, nid = l_, node.id\n",
    "        select_nid = nid\n",
    "        self.canvas.delete('select', 'result', 'select_GA', 'result_GA') #古いselectノード等を削除\n",
    "        self.Draw_node(dict_node[select_nid], 'blue', psize_, 'select') #新しく選択したノードを描画\n",
    "        \n",
    "    #「スタート地点を設定」ボタン\n",
    "    def button1_click(self):\n",
    "        if select_nid == None: messagebox.showerror(\"エラー\", 'ノードを選択してください！')\n",
    "        else:\n",
    "            global start_nid\n",
    "            start_nid = select_nid\n",
    "            self.canvas.delete('select', 'start', 'result', 'select_GA', 'result_GA')\n",
    "            self.Draw_node(dict_node[start_nid], 'Lightblue1', psize_, 'start')\n",
    "    #「ゴール地点を設定」ボタン\n",
    "    def button2_click(self):\n",
    "        if select_nid == None: messagebox.showerror(\"エラー\", 'ノードを選択してください！')\n",
    "        else:\n",
    "            global goal_nid\n",
    "            goal_nid = select_nid\n",
    "            self.canvas.delete('select', 'goal', 'result', 'select_GA', 'result_GA')\n",
    "            self.Draw_node(dict_node[goal_nid], 'Lightpink1', psize_, 'goal')  \n",
    "    #「ランダムで２地点を設定」ボタン\n",
    "    def button3_click(self):\n",
    "        global start_nid, goal_nid\n",
    "        start_goal = random.sample(list(dict_node.keys()), 2) #2地点のノードIDを格納したリスト\n",
    "        start_nid, goal_nid = start_goal[0], start_goal[1]\n",
    "        self.canvas.delete('select', 'start', 'goal', 'result', 'select_GA', 'result_GA')\n",
    "        self.Draw_node(dict_node[start_nid], 'Lightblue1', psize_, 'start')\n",
    "        self.Draw_node(dict_node[goal_nid], 'Lightpink1', psize_, 'goal')\n",
    "        \n",
    "    #「２地点の最短経路を算出」ボタン\n",
    "    def button4_click(self):\n",
    "        if start_nid == None or goal_nid == None: messagebox.showerror(\"エラー\", 'StartとGoalを設定してください！')\n",
    "        else:\n",
    "            t1 = time.time()\n",
    "            Dijkstra(dict_node[start_nid], dict_node[goal_nid]) #実行\n",
    "            self.canvas.delete('select', 'start', 'goal', 'result', 'select_GA', 'result_GA')\n",
    "            if self.bln2.get(): #探索済みリンクの描画\n",
    "                for lid in dict_link_comp: self.Draw_link(dict_link[lid], 'tan1', rwidth-3, 'result')\n",
    "            for lid in dict_node[goal_nid].passed_links: #結果の描画\n",
    "                self.Draw_link(dict_link[lid], 'coral1', rwidth, 'result')\n",
    "                self.Draw_node(dict_node[start_nid], 'Lightblue1', psize_, 'start')\n",
    "                self.Draw_node(dict_node[goal_nid], 'Lightpink1', psize_, 'goal')\n",
    "            t2 = time.time()\n",
    "            print('<経路探索finish> 距離：' + str(round(dict_node[goal_nid].total_d, 2)) + '[m]\\n' + \n",
    "                  '（実行時間：' + str(round(t2 - t1, 3)) + '[s]）')\n",
    "            self.text.set('最短距離：' + str(round(dict_node[goal_nid].total_d, 2)) + '[m]\\n' \n",
    "                          + '探索ノード数：' + str(count) + '\\n'  + '実行時間：' + str(round(t2 - t1, 3)) + '[s]\\n')  \n",
    "        \n",
    "    #「ランダムで巡回地点を設定」ボタン\n",
    "    def button5_click(self):\n",
    "        if start_nid == None or goal_nid == None: messagebox.showerror(\"エラー\", 'StartとGoalを設定してください！')\n",
    "        else:\n",
    "            global origin_nodes, origin_nodes_2, distance_matrix, passed_links_matrix\n",
    "            origin_nodes = random.sample(list(dict_node.keys()), n_num) #n地点のノードIDを格納したリスト\n",
    "            self.canvas.delete('select', 'start', 'goal', 'result', 'select_GA', 'result_GA')\n",
    "            distance_matrix, passed_links_matrix = None, None #距離行列と経由リンクlistの行列を初期化\n",
    "            for nid in origin_nodes: self.Draw_node(dict_node[nid], 'gold', psize_, 'select_GA')\n",
    "            self.Draw_node(dict_node[start_nid], 'Lightblue1', psize_, 'select_GA')\n",
    "            self.Draw_node(dict_node[goal_nid], 'Lightpink1', psize_, 'select_GA')\n",
    "            origin_nodes_2 = copy.copy(origin_nodes) #スタートとゴールも含めた巡回地点\n",
    "            origin_nodes_2.extend([start_nid, goal_nid])\n",
    "            print('<選択されたノードID>\\n' + str(origin_nodes) + '\\n ') \n",
    "        \n",
    "    #「距離行列(と経由リンクlistの行列)を算出」ボタン\n",
    "    def button6_click(self):\n",
    "        if origin_nodes == None: messagebox.showerror(\"エラー\", '巡回地点を選択してください！')\n",
    "        else:\n",
    "            t1 = time.time()\n",
    "            global distance_matrix, passed_links_matrix\n",
    "            distance_matrix, passed_links_matrix = CalculatDistanceMatrix()\n",
    "            self.canvas.delete('select', 'start', 'goal', 'result', 'select_GA', 'result_GA')\n",
    "            for nid in origin_nodes: self.Draw_node(dict_node[nid], 'orange', psize_, 'select_GA')\n",
    "            self.Draw_node(dict_node[start_nid], 'Lightblue1', psize_, 'select_GA')\n",
    "            self.Draw_node(dict_node[goal_nid], 'Lightpink1', psize_, 'select_GA')\n",
    "            t2 = time.time()\n",
    "            self.text.set(\"距離行列を算出しました。\\n\" + '（実行時間：' + str(round(t2 - t1, 3)) + '[s]）')\n",
    "            print('<距離行列>\\n' + str(distance_matrix) + '\\n（実行時間：' + str(round(t2 - t1, 3)) + '[s]）\\n ')\n",
    "            \n",
    "    def GA_Draw(self, g): #遺伝的アルゴリズムの結果描画\n",
    "        self.canvas.delete('select', 'start', 'goal', 'result', 'select_GA', 'result_GA')\n",
    "        for i in range(n_num-1):\n",
    "            lids = passed_links_matrix[g[i]][g[i+1]]\n",
    "            for lid in lids: self.Draw_link(dict_link[lid], 'coral1', rwidth, 'result_GA')\n",
    "        lids = passed_links_matrix[-2][g[0]]\n",
    "        for lid in lids: self.Draw_link(dict_link[lid], 'coral1', rwidth, 'result_GA')\n",
    "        if self.bln3.get(): \n",
    "            lids = passed_links_matrix[g[-1]][-2]\n",
    "            for lid in lids: self.Draw_link(dict_link[lid], 'coral1', rwidth, 'result_GA')\n",
    "            self.Draw_node(dict_node[start_nid], 'Lightblue1', psize_, 'select_GA')\n",
    "        else:\n",
    "            lids = passed_links_matrix[g[-1]][-1]\n",
    "            for lid in lids: self.Draw_link(dict_link[lid], 'coral1', rwidth, 'result_GA')\n",
    "            self.Draw_node(dict_node[start_nid], 'Lightblue1', psize_, 'select_GA')\n",
    "            self.Draw_node(dict_node[goal_nid], 'Lightpink1', psize_, 'select_GA')\n",
    "        for i, n in enumerate(g):\n",
    "            node = dict_node[origin_nodes[n]]\n",
    "            self.Draw_node(node, 'orange', psize_, 'select_GA')\n",
    "            x, y = (node.x - vertex[0]) * ratio * zoom, (node.y - vertex[1]) * ratio * zoom\n",
    "            self.canvas.create_text(x, y, text = int(i + 1), font = ('Arial', 10), fill = 'white')\n",
    "        \n",
    "    #「遺伝的アルゴリズム実行」ボタン\n",
    "    def button7_click(self):\n",
    "        if origin_nodes == None: messagebox.showerror(\"エラー\", '巡回地点を選択してください！')\n",
    "        else:\n",
    "            t1 = time.time()\n",
    "            self.GA_Draw(GeneticAlgorithm())\n",
    "            t2 = time.time()\n",
    "            print('<経路探索finish>\\n' + '（実行時間：' + str(round(t2 - t1, 3)) + '[s]）')\n",
    "    \n",
    "    #「10連続で実行」ボタン\n",
    "    def button8_click(self):\n",
    "        global renzoku, min_path_length\n",
    "        renzoku = True\n",
    "        text_ = \"\"\n",
    "        if origin_nodes == None: messagebox.showerror(\"エラー\", '巡回地点を選択してください！')\n",
    "        else:\n",
    "            t1 = time.time()\n",
    "            best_g, best_path_length = None, float('inf')\n",
    "            for i in range(10):\n",
    "                g = GeneticAlgorithm()\n",
    "                if min_path_length <= best_path_length: best_path_length, best_g = min_path_length, g\n",
    "                text_ = text_ + '<' + str(i+1) + '回目> :' + str(int(min_path_length)) + '[m]\\n'\n",
    "                self.text.set(text_)\n",
    "            self.GA_Draw(best_g)\n",
    "            renzoku = False\n",
    "            t2 = time.time()\n",
    "            text_ = text_ +'\\n最短距離：' + str(int(best_path_length)) + '[m]\\n' + '（実行時間：' + str(round(t2 - t1, 3)) + '[s]）'\n",
    "            self.text.set(text_)\n",
    "\n",
    "root = tk.Tk()\n",
    "root.geometry(\"{}x{}+0+0\".format(int(canvas_size[0]+200), int(canvas_size[1]+300))) #(0,0)はwindowのスクリーン上の配置位置\n",
    "root.title('経路探索') #タイトル作成\n",
    "root.configure(background = 'lemon chiffon')\n",
    "app = MyApp1(master=root)\n",
    "app.mainloop()"
   ]
  },
  {
   "cell_type": "code",
   "execution_count": null,
   "metadata": {},
   "outputs": [],
   "source": []
  }
 ],
 "metadata": {
  "kernelspec": {
   "display_name": "Python 3",
   "language": "python",
   "name": "python3"
  },
  "language_info": {
   "codemirror_mode": {
    "name": "ipython",
    "version": 3
   },
   "file_extension": ".py",
   "mimetype": "text/x-python",
   "name": "python",
   "nbconvert_exporter": "python",
   "pygments_lexer": "ipython3",
   "version": "3.7.6"
  }
 },
 "nbformat": 4,
 "nbformat_minor": 4
}
